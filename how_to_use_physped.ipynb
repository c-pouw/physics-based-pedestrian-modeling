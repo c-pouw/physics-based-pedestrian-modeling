{
 "cells": [
  {
   "cell_type": "code",
   "execution_count": null,
   "metadata": {},
   "outputs": [],
   "source": [
    "%load_ext autoreload\n",
    "%autoreload 2"
   ]
  },
  {
   "cell_type": "code",
   "execution_count": null,
   "metadata": {},
   "outputs": [],
   "source": [
    "from pathlib import Path\n",
    "import logging\n",
    "\n",
    "import numpy as np\n",
    "import pandas as pd\n",
    "from hydra import compose, initialize\n",
    "# from omegaconf import OmegaConf\n",
    "import matplotlib.pyplot as plt\n",
    "\n",
    "from physped.io.readers import trajectory_reader\n",
    "from physped.preprocessing.trajectory_preprocessor import preprocess_trajectories\n",
    "from physped.core.trajectory_simulator import simulate_trajectories\n",
    "from physped.visualization.plot_trajectories import plot_trajectories\n",
    "from physped.core.functions_to_discretize_grid import learn_potential_from_trajectories\n",
    "from physped.io.readers import read_grid_bins\n",
    "from physped.io.writers import save_piecewise_potential\n",
    "from physped.visualization.histograms import create_all_histograms, plot_multiple_histograms\n",
    "\n",
    "log = logging.getLogger(__name__)"
   ]
  },
  {
   "cell_type": "code",
   "execution_count": null,
   "metadata": {},
   "outputs": [],
   "source": [
    "# Initialize Hydra and read configuration\n",
    "initialize(version_base=None, config_path=\"conf\", job_name=\"test_app\")\n"
   ]
  },
  {
   "cell_type": "code",
   "execution_count": null,
   "metadata": {},
   "outputs": [],
   "source": [
    "cfg = compose(config_name=\"params/custom_paths\", return_hydra_config=True, overrides=[\"params.folder_path=${hydra.runtime.cwd}/data/models/notebook/\"])"
   ]
  },
  {
   "cell_type": "code",
   "execution_count": null,
   "metadata": {},
   "outputs": [],
   "source": [
    "# !wget https://zenodo.org/record/7007358/files/glow19_pnasnexus.csv\n",
    "trajectories = pd.read_csv('glow19_pnasnexus.csv')\n",
    "trajectories['time'] = pd.to_datetime(trajectories['time'])\n",
    "# trajectories = trajectories[['time', 'tracked_object', 'x', 'y']].copy()\n",
    "trajectories.head(3)\n",
    "\n",
    "# Update parameters\n",
    "cfg.params.dt = 0.0333333333333\n",
    "cfg.params.colnames.xf = 'x_sav'\n",
    "cfg.params.colnames.yf = 'y_sav'\n",
    "cfg.params.colnames.Pid = 'tracked_object'\n",
    "cfg.params.colnames.time = 'time'\n",
    "\n",
    "# Infer the edge of the measurement domain from the data\n",
    "xmin = int(np.floor(trajectories.x.min())) - 1\n",
    "xmax = int(np.ceil(trajectories.x.max())) + 1\n",
    "ymin = int(np.floor(trajectories.y.min())) - 1\n",
    "ymax = int(np.ceil(trajectories.y.max())) + 1\n",
    "cfg.params.trajectory_plot.xlims = [xmin, xmax]\n",
    "cfg.params.trajectory_plot.ylims = [ymin, ymax]"
   ]
  },
  {
   "cell_type": "code",
   "execution_count": null,
   "metadata": {},
   "outputs": [],
   "source": [
    "# Preprocess trajectories\n",
    "preprocessed_trajectories = preprocess_trajectories(trajectories, parameters=cfg.params)\n",
    "preprocessed_trajectories.head(3)"
   ]
  },
  {
   "cell_type": "code",
   "execution_count": null,
   "metadata": {},
   "outputs": [],
   "source": [
    "plot_trajectories(preprocessed_trajectories, cfg.params, 'recorded')"
   ]
  },
  {
   "cell_type": "code",
   "execution_count": null,
   "metadata": {},
   "outputs": [],
   "source": [
    "def create_custom_paths_grid(xbins, ybins, rbins, thetabins, kbins = np.array([0, 1, 10**10])):\n",
    "    np.savez(file=f\"data/grids/custom_paths_grid.npz\", x=xbins, y=ybins, r=rbins, theta=thetabins, k=kbins)\n",
    "    \n",
    "create_custom_paths_grid(\n",
    "    xbins = np.arange(xmin, xmax, 0.5),\n",
    "    ybins = np.arange(ymin, ymax, 0.5),\n",
    "    rbins = np.arange(0, 2, 0.4),\n",
    "    thetabins = np.linspace(-np.pi, np.pi + 0.01, 6),\n",
    "    kbins = np.array([0,1,10**10])\n",
    ")"
   ]
  },
  {
   "cell_type": "code",
   "execution_count": null,
   "metadata": {},
   "outputs": [],
   "source": [
    "# Learn piecewise potential from the trajectories\n",
    "grid_bins = read_grid_bins(cfg.params.grid_name)\n",
    "piecewise_potential = learn_potential_from_trajectories(preprocessed_trajectories, grid_bins)\n",
    "save_piecewise_potential(piecewise_potential, Path(cfg.params.folder_path))\n"
   ]
  },
  {
   "cell_type": "code",
   "execution_count": null,
   "metadata": {},
   "outputs": [],
   "source": [
    "# Simulate new trajectories using the learned potential\n",
    "simulated_trajectories = simulate_trajectories(piecewise_potential, cfg.params)\n",
    "simulated_trajectories.head(3)"
   ]
  },
  {
   "cell_type": "code",
   "execution_count": null,
   "metadata": {},
   "outputs": [],
   "source": [
    "plot_trajectories(simulated_trajectories, cfg.params, 'simulated')  "
   ]
  },
  {
   "cell_type": "code",
   "execution_count": null,
   "metadata": {},
   "outputs": [],
   "source": [
    "\n",
    "cfg.params.histogram_plot.xlims = [xmin, xmax]\n",
    "cfg.params.histogram_plot.ylims = [ymin, ymax]\n",
    "# Create histograms\n",
    "observables = [\"xf\", \"yf\", \"rf\", \"thetaf\"]\n",
    "histograms = create_all_histograms(preprocessed_trajectories, simulated_trajectories, observables = [\"xf\", \"yf\", \"rf\", \"thetaf\"])\n",
    "\n",
    "# Plot Histograms\n",
    "plot_multiple_histograms(observables, histograms, \"PDF\", cfg.params)"
   ]
  },
  {
   "cell_type": "code",
   "execution_count": null,
   "metadata": {},
   "outputs": [],
   "source": [
    "# import itertools package\n",
    "import itertools\n",
    "from itertools import permutations \n",
    " \n",
    "# initialize lists\n",
    "list_1 = [\"a\", \"b\", \"c\",\"d\"]\n",
    "list_2 = [1,4,9]\n",
    " \n",
    "# create empty list to store the\n",
    "# combinations\n",
    "unique_combinations = []\n",
    " \n",
    "# Getting all permutations of list_1 \n",
    "# with length of list_2\n",
    "permut = itertools.permutations(list_1, len(list_2))\n",
    " \n",
    "# zip() is called to pair each permutation\n",
    "# and shorter list element into combination\n",
    "for comb in permut:\n",
    "    zipped = zip(comb, list_2)\n",
    "    unique_combinations.append(list(zipped))\n",
    " \n",
    "# printing unique_combination list \n",
    "print(unique_combinations)"
   ]
  },
  {
   "cell_type": "code",
   "execution_count": null,
   "metadata": {},
   "outputs": [],
   "source": []
  }
 ],
 "metadata": {
  "kernelspec": {
   "display_name": "physped",
   "language": "python",
   "name": "python3"
  },
  "language_info": {
   "codemirror_mode": {
    "name": "ipython",
    "version": 3
   },
   "file_extension": ".py",
   "mimetype": "text/x-python",
   "name": "python",
   "nbconvert_exporter": "python",
   "pygments_lexer": "ipython3",
   "version": "3.11.0"
  }
 },
 "nbformat": 4,
 "nbformat_minor": 2
}
