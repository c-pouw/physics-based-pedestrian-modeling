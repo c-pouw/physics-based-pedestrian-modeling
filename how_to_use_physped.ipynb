{
 "cells": [
  {
   "cell_type": "code",
   "execution_count": null,
   "metadata": {},
   "outputs": [],
   "source": [
    "%load_ext autoreload\n",
    "%autoreload 2"
   ]
  },
  {
   "cell_type": "code",
   "execution_count": null,
   "metadata": {},
   "outputs": [],
   "source": [
    "# !wget https://zenodo.org/record/7007358/files/glow19_pnasnexus.csv"
   ]
  },
  {
   "cell_type": "code",
   "execution_count": null,
   "metadata": {},
   "outputs": [],
   "source": [
    "from pathlib import Path\n",
    "import logging\n",
    "import os\n",
    "\n",
    "import numpy as np\n",
    "import pandas as pd\n",
    "from hydra import compose, initialize\n",
    "# from omegaconf import OmegaConf\n",
    "# import matplotlib.pyplot as plt\n",
    "\n",
    "# from physped.io.readers import trajectory_reader\n",
    "from physped.omegaconf_resolvers import register_new_resolvers\n",
    "from physped.preprocessing.trajectories import preprocess_trajectories\n",
    "from physped.core.trajectory_simulator import simulate_trajectories\n",
    "from physped.visualization.plot_trajectories import plot_trajectories\n",
    "from physped.core.functions_to_discretize_grid import learn_potential_from_trajectories\n",
    "# from physped.io.readers import read_grid_bins\n",
    "from physped.io.writers import save_piecewise_potential\n",
    "from physped.visualization.plot_histograms import create_all_histograms, plot_multiple_histograms\n",
    "\n",
    "log = logging.getLogger(__name__)"
   ]
  },
  {
   "cell_type": "code",
   "execution_count": null,
   "metadata": {},
   "outputs": [],
   "source": [
    "with initialize(version_base=None, config_path=\"conf\", job_name = \"test_app\"):\n",
    "    cfg = compose(\n",
    "        config_name=\"config\"\n",
    "        , return_hydra_config=True\n",
    "        , overrides=[\"params=custom_paths\"]\n",
    "        )\n",
    "    print(cfg)\n",
    "register_new_resolvers()"
   ]
  },
  {
   "cell_type": "code",
   "execution_count": null,
   "metadata": {},
   "outputs": [],
   "source": [
    "trajectories = pd.read_csv('glow19_pnasnexus.csv')\n",
    "trajectories['time'] = pd.to_datetime(trajectories['time'])\n",
    "# trajectories = trajectories[['time', 'tracked_object', 'x', 'y']].copy()\n",
    "trajectories.head(3)"
   ]
  },
  {
   "cell_type": "code",
   "execution_count": null,
   "metadata": {},
   "outputs": [],
   "source": [
    "os.chdir(cfg.root_dir / 'outputs' / 'custom_paths')"
   ]
  },
  {
   "cell_type": "code",
   "execution_count": null,
   "metadata": {},
   "outputs": [],
   "source": [
    "# Update parameters\n",
    "# cfg.params.dt = 0.0333333333333\n",
    "cfg.params.fps = 30\n",
    "cfg.params.colnames.xf = 'x_sav'\n",
    "cfg.params.colnames.yf = 'y_sav'\n",
    "cfg.params.colnames.Pid = 'tracked_object'\n",
    "cfg.params.colnames.time = 'time'\n",
    "\n",
    "# Infer the edge of the measurement domain from the data\n",
    "xmin = int(np.floor(trajectories.x.min())) - 1\n",
    "xmax = int(np.ceil(trajectories.x.max())) + 1\n",
    "ymin = int(np.floor(trajectories.y.min())) - 1\n",
    "ymax = int(np.ceil(trajectories.y.max())) + 1\n",
    "cfg.params.trajectory_plot.xlims = [xmin, xmax]\n",
    "cfg.params.trajectory_plot.ylims = [ymin, ymax]"
   ]
  },
  {
   "cell_type": "code",
   "execution_count": null,
   "metadata": {},
   "outputs": [],
   "source": [
    "# Preprocess trajectories\n",
    "preprocessed_trajectories = preprocess_trajectories(trajectories, config=cfg)\n",
    "preprocessed_trajectories.head(3)"
   ]
  },
  {
   "cell_type": "code",
   "execution_count": null,
   "metadata": {},
   "outputs": [],
   "source": [
    "cfg['params']"
   ]
  },
  {
   "cell_type": "code",
   "execution_count": null,
   "metadata": {},
   "outputs": [],
   "source": [
    "plot_trajectories(preprocessed_trajectories, cfg, 'recorded')"
   ]
  },
  {
   "cell_type": "code",
   "execution_count": null,
   "metadata": {},
   "outputs": [],
   "source": [
    "piecewise_potential = learn_potential_from_trajectories(preprocessed_trajectories, cfg)\n",
    "save_piecewise_potential(piecewise_potential, Path.cwd())"
   ]
  },
  {
   "cell_type": "code",
   "execution_count": null,
   "metadata": {},
   "outputs": [],
   "source": [
    "# Simulate new trajectories using the learned potential\n",
    "simulated_trajectories = simulate_trajectories(piecewise_potential, cfg)\n",
    "simulated_trajectories.head(3)"
   ]
  },
  {
   "cell_type": "code",
   "execution_count": null,
   "metadata": {},
   "outputs": [],
   "source": [
    "plot_trajectories(simulated_trajectories, cfg, 'simulated')  "
   ]
  },
  {
   "cell_type": "code",
   "execution_count": null,
   "metadata": {},
   "outputs": [],
   "source": [
    "\n",
    "cfg.params.histogram_plot.xlims = [xmin, xmax]\n",
    "cfg.params.histogram_plot.ylims = [ymin, ymax]\n",
    "cfg.params.histogram_plot.ylims = [ymin, ymax]\n",
    "# Create histograms\n",
    "observables = [\"xf\", \"yf\", \"uf\", \"vf\"]\n",
    "histograms = create_all_histograms(preprocessed_trajectories, simulated_trajectories, observables = observables)\n",
    "\n",
    "# Plot Histograms\n",
    "plot_multiple_histograms(observables, histograms, \"PDF\", cfg)"
   ]
  }
 ],
 "metadata": {
  "kernelspec": {
   "display_name": "physped",
   "language": "python",
   "name": "python3"
  },
  "language_info": {
   "codemirror_mode": {
    "name": "ipython",
    "version": 3
   },
   "file_extension": ".py",
   "mimetype": "text/x-python",
   "name": "python",
   "nbconvert_exporter": "python",
   "pygments_lexer": "ipython3",
   "version": "3.11.0"
  }
 },
 "nbformat": 4,
 "nbformat_minor": 2
}
