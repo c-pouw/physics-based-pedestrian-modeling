{
 "cells": [
  {
   "cell_type": "code",
   "execution_count": null,
   "metadata": {},
   "outputs": [],
   "source": [
    "%load_ext autoreload\n",
    "%autoreload 2"
   ]
  },
  {
   "cell_type": "code",
   "execution_count": null,
   "metadata": {},
   "outputs": [],
   "source": [
    "from pathlib import Path\n",
    "import logging\n",
    "import os\n",
    "from pprint import pformat\n",
    "\n",
    "import numpy as np\n",
    "import pandas as pd\n",
    "from hydra import compose, initialize\n",
    "import matplotlib.pyplot as plt\n",
    "from omegaconf import OmegaConf\n",
    "\n",
    "from physped.omegaconf_resolvers import register_new_resolvers\n",
    "from physped.io.readers import trajectory_reader\n",
    "from physped.io.writers import save_piecewise_potential\n",
    "from physped.preprocessing.trajectories import preprocess_trajectories\n",
    "from physped.core.functions_to_discretize_grid import learn_potential_from_trajectories\n",
    "from physped.core.trajectory_simulator import simulate_trajectories\n",
    "from physped.core.functions_to_select_grid_piece import evaluate_selection_point, evaluate_selection_range, get_index_of_the_enclosing_bin\n",
    "from physped.visualization.plot_trajectories import plot_trajectories\n",
    "from physped.visualization.plot_discrete_grid import plot_discrete_grid\n",
    "from physped.visualization.plot_histograms import create_all_histograms, plot_multiple_histograms\n",
    "from physped.visualization.plot_1d_gaussian_fits import learn_piece_of_potential_plot"
   ]
  },
  {
   "cell_type": "code",
   "execution_count": null,
   "metadata": {},
   "outputs": [],
   "source": [
    "# Load configuration parameters\n",
    "env_name = \"user_input\"\n",
    "\n",
    "with initialize(version_base=None, config_path=\"../conf\", job_name=\"test_app\"):\n",
    "    config = compose(\n",
    "        config_name=\"config\",\n",
    "        return_hydra_config=True,\n",
    "        overrides=[\n",
    "            f\"params={env_name}\", \n",
    "            # \"params.data_source=local\",\n",
    "            ],\n",
    "    )\n",
    "    register_new_resolvers()\n",
    "\n",
    "# set log level\n",
    "log = logging.getLogger(__name__)\n",
    "logging.basicConfig(level=logging.INFO)\n",
    "\n",
    "# set plot style\n",
    "plt.style.use(Path.cwd().parent / \"conf/science.mplstyle\")\n",
    "\n",
    "# change working directory\n",
    "working_dir = config.hydra.run.dir\n",
    "os.makedirs(working_dir, exist_ok=True)\n",
    "os.chdir(working_dir)"
   ]
  },
  {
   "cell_type": "code",
   "execution_count": null,
   "metadata": {},
   "outputs": [],
   "source": [
    "logging.info('CONFIGURATION FILE:\\n' + pformat(OmegaConf.to_container(config), depth=1))"
   ]
  },
  {
   "cell_type": "code",
   "execution_count": null,
   "metadata": {},
   "outputs": [],
   "source": [
    "logging.info('PARAMETERS:\\n' + pformat(OmegaConf.to_container(config.params), depth=1))"
   ]
  },
  {
   "cell_type": "code",
   "execution_count": null,
   "metadata": {},
   "outputs": [],
   "source": [
    "!wget https://zenodo.org/record/7007358/files/glow19_pnasnexus.csv"
   ]
  },
  {
   "cell_type": "code",
   "execution_count": null,
   "metadata": {},
   "outputs": [],
   "source": [
    "## Read your own data\n",
    "\n",
    "## E.g.\n",
    "trajectories = pd.read_csv('glow19_pnasnexus.csv').iloc[:-2]\n",
    "trajectories['time'] = pd.to_datetime(trajectories['time'])\n",
    "# trajectories = trajectories[['time', 'tracked_object', 'x', 'y']].copy()\n",
    "# trajectories.head(3)\n",
    "logging.info('\\n' + pformat(trajectories.head()))"
   ]
  },
  {
   "cell_type": "code",
   "execution_count": null,
   "metadata": {},
   "outputs": [],
   "source": [
    "# Update parameters\n",
    "config.params.fps = 30\n",
    "xcol = config.params.colnames.xf = 'x'\n",
    "ycol = config.params.colnames.yf = 'y'\n",
    "config.params.colnames.Pid = 'tracked_object'\n",
    "config.params.colnames.time = 'time'\n",
    "\n",
    "# Infer the edge of the measurement domain from the data\n",
    "xmin = config.params.grid.x.min = int(np.floor(trajectories[xcol].min()))\n",
    "xmax = config.params.grid.x.max = int(np.ceil(trajectories[xcol].max()))\n",
    "ymin = config.params.grid.y.min = int(np.floor(trajectories[ycol].min()))\n",
    "ymax = config.params.grid.y.max = int(np.ceil(trajectories[ycol].max()))\n",
    "config.params.default_xlims = [xmin, xmax]\n",
    "config.params.default_ylims = [ymin, ymax]\n",
    "\n",
    "logging.info('COLUMN NAMES:\\n' + pformat(OmegaConf.to_container(config.params.colnames), depth=1))"
   ]
  },
  {
   "cell_type": "code",
   "execution_count": null,
   "metadata": {},
   "outputs": [],
   "source": [
    "preprocessed_trajectories = preprocess_trajectories(trajectories, config=config)"
   ]
  },
  {
   "cell_type": "code",
   "execution_count": null,
   "metadata": {},
   "outputs": [],
   "source": [
    "plot_trajectories(preprocessed_trajectories, config, \"recorded\")"
   ]
  },
  {
   "cell_type": "code",
   "execution_count": null,
   "metadata": {},
   "outputs": [],
   "source": [
    "piecewise_potential = learn_potential_from_trajectories(preprocessed_trajectories, config)"
   ]
  },
  {
   "cell_type": "code",
   "execution_count": null,
   "metadata": {},
   "outputs": [],
   "source": [
    "config.params.input_ntrajs = len(preprocessed_trajectories.Pid.unique())\n",
    "simulated_trajectories = simulate_trajectories(piecewise_potential, config)"
   ]
  },
  {
   "cell_type": "code",
   "execution_count": null,
   "metadata": {},
   "outputs": [],
   "source": [
    "plot_trajectories(preprocessed_trajectories, config, \"simulated\")"
   ]
  },
  {
   "cell_type": "code",
   "execution_count": null,
   "metadata": {},
   "outputs": [],
   "source": [
    "observables = [\"xf\", \"yf\", \"uf\", \"vf\"]\n",
    "config.params.simulation.ntrajs = len(simulated_trajectories.Pid.unique())\n",
    "histograms = create_all_histograms(preprocessed_trajectories, simulated_trajectories, config)\n",
    "plot_multiple_histograms(observables, histograms, \"PDF\", config)"
   ]
  },
  {
   "cell_type": "code",
   "execution_count": null,
   "metadata": {},
   "outputs": [],
   "source": []
  }
 ],
 "metadata": {
  "kernelspec": {
   "display_name": "physped",
   "language": "python",
   "name": "python3"
  },
  "language_info": {
   "codemirror_mode": {
    "name": "ipython",
    "version": 3
   },
   "file_extension": ".py",
   "mimetype": "text/x-python",
   "name": "python",
   "nbconvert_exporter": "python",
   "pygments_lexer": "ipython3",
   "version": "3.11.0"
  }
 },
 "nbformat": 4,
 "nbformat_minor": 2
}
