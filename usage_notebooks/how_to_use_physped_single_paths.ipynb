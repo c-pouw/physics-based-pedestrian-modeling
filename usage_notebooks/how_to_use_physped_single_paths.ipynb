{
 "cells": [
  {
   "cell_type": "code",
   "execution_count": null,
   "metadata": {},
   "outputs": [],
   "source": [
    "%load_ext autoreload\n",
    "%autoreload 2"
   ]
  },
  {
   "cell_type": "code",
   "execution_count": null,
   "metadata": {},
   "outputs": [],
   "source": [
    "from pathlib import Path\n",
    "import logging\n",
    "import os\n",
    "from pprint import pformat\n",
    "\n",
    "import numpy as np\n",
    "import pandas as pd\n",
    "from hydra import compose, initialize\n",
    "import matplotlib.pyplot as plt\n",
    "from omegaconf import OmegaConf\n",
    "\n",
    "from physped.omegaconf_resolvers import register_new_resolvers\n",
    "from physped.io.readers import trajectory_reader\n",
    "from physped.io.writers import save_piecewise_potential\n",
    "from physped.preprocessing.trajectories import preprocess_trajectories\n",
    "from physped.core.functions_to_discretize_grid import learn_potential_from_trajectories\n",
    "from physped.core.trajectory_simulator import simulate_trajectories\n",
    "from physped.core.functions_to_select_grid_piece import evaluate_selection_point, evaluate_selection_range, get_index_of_the_enclosing_bin\n",
    "from physped.visualization.plot_trajectories import plot_trajectories\n",
    "from physped.visualization.plot_discrete_grid import plot_discrete_grid\n",
    "from physped.visualization.plot_histograms import create_all_histograms, plot_multiple_histograms\n",
    "from physped.visualization.plot_1d_gaussian_fits import learn_piece_of_potential_plot"
   ]
  },
  {
   "cell_type": "code",
   "execution_count": null,
   "metadata": {},
   "outputs": [],
   "source": [
    "# Load configuration parameters\n",
    "env_name = \"single_paths\"\n",
    "\n",
    "with initialize(version_base=None, config_path=\"../conf\", job_name=\"test_app\"):\n",
    "    config = compose(\n",
    "        config_name=\"config\",\n",
    "        return_hydra_config=True,\n",
    "        overrides=[\n",
    "            f\"params={env_name}\", \n",
    "            \"params.data_source=local\",\n",
    "            \"params.grid.theta.min_multiple_pi=-0.75\",\n",
    "            \"params.grid.theta.segments=4\",\n",
    "            # \"params.grid.spatial_cell_size=0.5\",\n",
    "            ],\n",
    "    )\n",
    "    register_new_resolvers()\n",
    "\n",
    "# set log level\n",
    "log = logging.getLogger(__name__)\n",
    "logging.basicConfig(level=logging.INFO)\n",
    "\n",
    "# set plot style\n",
    "plt.style.use(Path.cwd().parent / \"conf/science.mplstyle\")\n",
    "\n",
    "# change working directory\n",
    "working_dir = config.hydra.run.dir\n",
    "os.makedirs(working_dir, exist_ok=True)\n",
    "os.chdir(working_dir)"
   ]
  },
  {
   "cell_type": "code",
   "execution_count": null,
   "metadata": {},
   "outputs": [],
   "source": [
    "logging.info('CONFIGURATION FILE:\\n' + pformat(OmegaConf.to_container(config), depth=1))"
   ]
  },
  {
   "cell_type": "code",
   "execution_count": null,
   "metadata": {},
   "outputs": [],
   "source": [
    "logging.info('PARAMETERS:\\n' + pformat(OmegaConf.to_container(config.params), depth=1))"
   ]
  },
  {
   "cell_type": "code",
   "execution_count": null,
   "metadata": {},
   "outputs": [],
   "source": [
    "trajectories = trajectory_reader[env_name](config)\n",
    "logging.info('\\n' + pformat(trajectories.head()))"
   ]
  },
  {
   "cell_type": "code",
   "execution_count": null,
   "metadata": {},
   "outputs": [],
   "source": [
    "preprocessed_trajectories = preprocess_trajectories(trajectories, config=config)"
   ]
  },
  {
   "cell_type": "code",
   "execution_count": null,
   "metadata": {},
   "outputs": [],
   "source": [
    "plot_trajectories(preprocessed_trajectories, config, \"recorded\")"
   ]
  },
  {
   "cell_type": "code",
   "execution_count": null,
   "metadata": {},
   "outputs": [],
   "source": [
    "piecewise_potential = learn_potential_from_trajectories(preprocessed_trajectories, config)"
   ]
  },
  {
   "cell_type": "code",
   "execution_count": null,
   "metadata": {},
   "outputs": [],
   "source": [
    "config.params.input_ntrajs = len(preprocessed_trajectories.Pid.unique())\n",
    "simulated_trajectories = simulate_trajectories(piecewise_potential, config)"
   ]
  },
  {
   "cell_type": "code",
   "execution_count": null,
   "metadata": {},
   "outputs": [],
   "source": [
    "plot_trajectories(simulated_trajectories, config, \"simulated\")"
   ]
  },
  {
   "cell_type": "code",
   "execution_count": null,
   "metadata": {},
   "outputs": [],
   "source": [
    "config = evaluate_selection_point(config)\n",
    "config = evaluate_selection_range(config)\n",
    "\n",
    "logging.info('\\n' + pformat(OmegaConf.to_container(config.params.selection.range), depth=2))\n",
    "# logging.info(pformat(dict(config.params.selection.range)))"
   ]
  },
  {
   "cell_type": "code",
   "execution_count": null,
   "metadata": {},
   "outputs": [],
   "source": [
    "observables = [\"xf\", \"yf\", \"uf\", \"vf\"]\n",
    "config.params.simulation.ntrajs = len(simulated_trajectories.Pid.unique())\n",
    "histograms = create_all_histograms(preprocessed_trajectories, simulated_trajectories, config)\n",
    "plot_multiple_histograms(observables, histograms, \"PDF\", config)"
   ]
  },
  {
   "cell_type": "code",
   "execution_count": null,
   "metadata": {},
   "outputs": [],
   "source": [
    "plot_discrete_grid(config)"
   ]
  },
  {
   "cell_type": "code",
   "execution_count": null,
   "metadata": {},
   "outputs": [],
   "source": [
    "learn_piece_of_potential_plot(config)   "
   ]
  },
  {
   "cell_type": "code",
   "execution_count": null,
   "metadata": {},
   "outputs": [],
   "source": [
    "def calculate_potential(curvature, center, offset, value):\n",
    "    return curvature * (value - center) ** 2 + offset\n",
    "\n",
    "\n",
    "# Analytical parabolic potential\n",
    "yrange = np.arange(-0.6, 0.6, 0.01)\n",
    "px_to_mm = {\"x\": 3.9, \"y\": 4.1}\n",
    "beta = 1.8\n",
    "pot0 = 0.04\n",
    "# A = 0.3\n",
    "y_cent = 0.02\n",
    "parabolic_potential = beta * (yrange - y_cent) ** 2 + pot0\n",
    "\n",
    "# Get index for a point on the grid\n",
    "# point = [0.45, -10, 0.6, 0, 3]\n",
    "point = [0.4, -10, 0.6, 0, 3]\n",
    "bin_index = []\n",
    "for dim, value in zip(config.params.grid.bins, point):\n",
    "    bin_index.append(get_index_of_the_enclosing_bin(value, config.params.grid.bins[dim]))\n",
    "bin_index[3] = 0\n",
    "\n",
    "cmap = [\"C0\", \"C1\", \"C2\", \"C3\"] * 100\n",
    "fig, ax = plt.subplots(figsize=(3.54, 1.5))\n",
    "lw = 2\n",
    "\n",
    "ybins = config.params.grid.bins.y\n",
    "dy = ybins[1] - ybins[0]\n",
    "middle_bins = ybins + dy / 2\n",
    "for y_index in range(len(ybins) - 1):\n",
    "    bin_index[1] = y_index\n",
    "    # xmu, xvar, ymu, yvar, umu, uvar, vmu, vvar = piecewise_potential.fit_params[*bin_index, :]\n",
    "    # if np.sum(piecewise_potential.fit_params[*bin_index, :]) == 0:\n",
    "    #     continue\n",
    "\n",
    "    offset = piecewise_potential.position_based_offset[bin_index[0], y_index]\n",
    "    X_dashed = np.linspace(ybins[y_index] - dy / 2, ybins[y_index + 1] + dy / 2, 100)\n",
    "    Vy_dashed = calculate_potential(\n",
    "        piecewise_potential.curvature_y[*bin_index], piecewise_potential.center_y[*bin_index], offset, X_dashed\n",
    "    )\n",
    "    color = cmap[y_index]\n",
    "\n",
    "    Vy_mid = calculate_potential(\n",
    "        piecewise_potential.curvature_y[*bin_index],\n",
    "        piecewise_potential.center_y[*bin_index],\n",
    "        offset,\n",
    "        middle_bins[y_index],\n",
    "    )\n",
    "    ax.plot(middle_bins[y_index], Vy_mid, color=\"w\", marker=\"|\", ms=3, zorder=20)\n",
    "    ax.plot(X_dashed, Vy_dashed, alpha=0.4, linestyle=\"dashed\", color=color, lw=lw)\n",
    "\n",
    "    X_solid = np.linspace(ybins[y_index], ybins[y_index + 1], 100)\n",
    "    Vy_solid = calculate_potential(\n",
    "        piecewise_potential.curvature_y[*bin_index], piecewise_potential.center_y[*bin_index], offset, X_solid\n",
    "    )\n",
    "    ax.plot(X_solid, Vy_solid, color=color, lw=lw)\n",
    "\n",
    "ax.set_xlim(config.params.default_ylims)\n",
    "ax.grid(False)\n",
    "ax.set_xticks(ybins)\n",
    "\n",
    "y_walls = config.params.trajectory_plot.ywalls\n",
    "# Plot grid\n",
    "ax.vlines(ybins, 0, 1, lw=0.4, color=\"k\", linestyle=\"dashed\", alpha=0.6)\n",
    "ax.hlines(np.linspace(0, 1, 6), y_walls[0], y_walls[1], lw=0.4, color=\"k\", linestyle=\"dashed\", alpha=0.6)\n",
    "\n",
    "# Plot walls\n",
    "ax.vlines(y_walls, 0, 2, \"k\")\n",
    "for ywall in y_walls:\n",
    "    if ywall < 0:\n",
    "        fillbetweenx = [10 * ywall, ywall]\n",
    "    elif ywall > 0:\n",
    "        fillbetweenx = [ywall, 10 * ywall]\n",
    "    ax.fill_between(\n",
    "        fillbetweenx,\n",
    "        2,\n",
    "        0,\n",
    "        color=\"k\",\n",
    "        alpha=0.3,\n",
    "        zorder=30,\n",
    "        hatch=\"//\",\n",
    "    )\n",
    "\n",
    "plt.ylim(0, 0.6)\n",
    "plt.ylabel(\"$U(y\\\\,|\\\\,\\\\Phi) + O(\\\\Phi)$\")\n",
    "plt.ylabel(\"$U(y\\\\,|\\\\vec{x}_s, \\\\vec{u}_s) + O(\\\\vec{x}_x, \\\\vec{u}_s)$\")\n",
    "plt.xlabel(\"y [m]\")\n",
    "plt.plot(\n",
    "    yrange,\n",
    "    parabolic_potential,\n",
    "    \"k--\",\n",
    "    lw=1.5,\n",
    "    zorder=-20,\n",
    "    label=\"Analytic potential \\n$V(y) = \\\\beta y^2$ (Eq.~(6))\",\n",
    ")\n",
    "plt.plot(\n",
    "    yrange,\n",
    "    parabolic_potential,\n",
    "    \"k--\",\n",
    "    lw=1.5,\n",
    "    zorder=20,\n",
    "    alpha=0.3,\n",
    "    # label=\"Analytic potential \\n$V(y) = \\\\beta y^2$ (Eq.~(5))\",\n",
    ")\n",
    "plt.legend(loc=\"upper center\")\n",
    "# plt.savefig(\"../figures/potential_convolution_narrow_corridor.pdf\")"
   ]
  },
  {
   "cell_type": "code",
   "execution_count": null,
   "metadata": {},
   "outputs": [],
   "source": [
    "trajectories = pd.read_csv('glow19_pnasnexus.csv')\n",
    "trajectories['time'] = pd.to_datetime(trajectories['time'])\n",
    "# trajectories = trajectories[['time', 'tracked_object', 'x', 'y']].copy()\n",
    "trajectories.head(3)"
   ]
  },
  {
   "cell_type": "code",
   "execution_count": null,
   "metadata": {},
   "outputs": [],
   "source": [
    "path = trajectories['tracked_object'].unique()[0]"
   ]
  },
  {
   "cell_type": "code",
   "execution_count": null,
   "metadata": {},
   "outputs": [],
   "source": [
    "import matplotlib.pyplot as plt\n",
    "fig, ax = plt.subplots(1, 1)\n",
    "for rotation_rad in [0,np.pi/2,np.pi,np.pi*3/2]:\n",
    "    rotation_degree = int(360 * rotation_rad / np.pi)\n",
    "    ax.plot(\n",
    "        rotation_degree/90,\n",
    "        1,\n",
    "        marker=(3, 0, rotation_degree),\n",
    "        markersize=22,\n",
    "        color='b',\n",
    "        zorder=10,\n",
    "    )"
   ]
  },
  {
   "cell_type": "code",
   "execution_count": null,
   "metadata": {},
   "outputs": [],
   "source": [
    "path_pid = trajectories['tracked_object'].unique()[80]\n",
    "path = trajectories[trajectories['tracked_object'] == path_pid].copy()\n",
    "color = 'b'\n",
    "path.head(2)\n",
    "path[\"r\"] = np.hypot(path[\"vx_sav\"], path[\"vy_sav\"])\n",
    "path[\"theta\"] = np.arctan2(path[\"vy_sav\"], path[\"vx_sav\"])\n",
    "rotation_rad = path[\"theta\"].iloc[0]\n",
    "\n",
    "fig, ax = plt.subplots(1, 1)\n",
    "for rowid in np.arange(1, len(path),5):\n",
    "    rotation_rad = path[\"theta\"].iloc[rowid] + np.pi/4\n",
    "    rotation_degree = int(360 * rotation_rad / np.pi)\n",
    "    ax.plot(\n",
    "        path[\"x_sav\"].iloc[rowid],\n",
    "        path[\"y_sav\"].iloc[rowid],\n",
    "        marker=(3, 0, rotation_degree),\n",
    "        markersize=10,\n",
    "        color=color,\n",
    "        zorder=10,\n",
    "    )\n",
    "    \n",
    "ax.plot(path[\"x_sav\"], path[\"y_sav\"], color=color, lw=0.9, alpha=0.8, zorder=10)\n",
    "ax.plot(path[\"x_sav\"].iloc[0], path[\"y_sav\"].iloc[0], color=color, lw=0.9, alpha=0.8, zorder=10, marker = 'o')"
   ]
  },
  {
   "cell_type": "code",
   "execution_count": null,
   "metadata": {},
   "outputs": [],
   "source": []
  },
  {
   "cell_type": "code",
   "execution_count": null,
   "metadata": {},
   "outputs": [],
   "source": [
    "# Update parameters\n",
    "# cfg.params.dt = 0.0333333333333\n",
    "cfg.params.fps = 30\n",
    "cfg.params.colnames.xf = 'x_sav'\n",
    "cfg.params.colnames.yf = 'y_sav'\n",
    "cfg.params.colnames.Pid = 'tracked_object'\n",
    "cfg.params.colnames.time = 'time'\n",
    "\n",
    "# Infer the edge of the measurement domain from the data\n",
    "xmin = int(np.floor(trajectories.x.min())) - 1\n",
    "xmax = int(np.ceil(trajectories.x.max())) + 1\n",
    "ymin = int(np.floor(trajectories.y.min())) - 1\n",
    "ymax = int(np.ceil(trajectories.y.max())) + 1\n",
    "cfg.params.trajectory_plot.xlims = [xmin, xmax]\n",
    "cfg.params.trajectory_plot.ylims = [ymin, ymax]"
   ]
  },
  {
   "cell_type": "code",
   "execution_count": null,
   "metadata": {},
   "outputs": [],
   "source": [
    "# Preprocess trajectories\n",
    "preprocessed_trajectories = preprocess_trajectories(trajectories, config=cfg)\n",
    "preprocessed_trajectories.head(3)"
   ]
  },
  {
   "cell_type": "code",
   "execution_count": null,
   "metadata": {},
   "outputs": [],
   "source": [
    "cfg['params']"
   ]
  },
  {
   "cell_type": "code",
   "execution_count": null,
   "metadata": {},
   "outputs": [],
   "source": [
    "plot_trajectories(preprocessed_trajectories, cfg, 'recorded')"
   ]
  },
  {
   "cell_type": "code",
   "execution_count": null,
   "metadata": {},
   "outputs": [],
   "source": [
    "piecewise_potential = learn_potential_from_trajectories(preprocessed_trajectories, cfg)\n",
    "save_piecewise_potential(piecewise_potential, Path.cwd())"
   ]
  },
  {
   "cell_type": "code",
   "execution_count": null,
   "metadata": {},
   "outputs": [],
   "source": [
    "# Simulate new trajectories using the learned potential\n",
    "simulated_trajectories = simulate_trajectories(piecewise_potential, cfg)\n",
    "simulated_trajectories.head(3)"
   ]
  },
  {
   "cell_type": "code",
   "execution_count": null,
   "metadata": {},
   "outputs": [],
   "source": [
    "plot_trajectories(simulated_trajectories, cfg, 'simulated')  "
   ]
  },
  {
   "cell_type": "code",
   "execution_count": null,
   "metadata": {},
   "outputs": [],
   "source": [
    "\n",
    "cfg.params.histogram_plot.xlims = [xmin, xmax]\n",
    "cfg.params.histogram_plot.ylims = [ymin, ymax]\n",
    "cfg.params.histogram_plot.ylims = [ymin, ymax]\n",
    "# Create histograms\n",
    "observables = [\"xf\", \"yf\", \"uf\", \"vf\"]\n",
    "histograms = create_all_histograms(preprocessed_trajectories, simulated_trajectories, observables = observables)\n",
    "\n",
    "# Plot Histograms\n",
    "plot_multiple_histograms(observables, histograms, \"PDF\", cfg)"
   ]
  }
 ],
 "metadata": {
  "kernelspec": {
   "display_name": "physped",
   "language": "python",
   "name": "python3"
  },
  "language_info": {
   "codemirror_mode": {
    "name": "ipython",
    "version": 3
   },
   "file_extension": ".py",
   "mimetype": "text/x-python",
   "name": "python",
   "nbconvert_exporter": "python",
   "pygments_lexer": "ipython3",
   "version": "3.1.undefined"
  }
 },
 "nbformat": 4,
 "nbformat_minor": 2
}
