{
 "cells": [
  {
   "cell_type": "markdown",
   "metadata": {},
   "source": [
    "# Notebook to create a pedestrian model with the narrow corridor measurements\n",
    "Run the first two cells only if you are on Google Colab. \n",
    "\n",
    "The first cell clones and installs the physics based pedestrian modeling repository from GitHub.\n",
    "\n",
    "You will need to restart the session after running the first cell."
   ]
  },
  {
   "cell_type": "code",
   "execution_count": null,
   "metadata": {},
   "outputs": [],
   "source": [
    "!git clone https://github.com/c-pouw/physics-based-pedestrian-modeling.git\n",
    "!pip install -e physics-based-pedestrian-modeling/"
   ]
  },
  {
   "cell_type": "markdown",
   "metadata": {},
   "source": [
    "Afer restarting the session you can use the next cell to change the working directory to the repository that we just cloned."
   ]
  },
  {
   "cell_type": "code",
   "execution_count": null,
   "metadata": {},
   "outputs": [],
   "source": [
    "import os\n",
    "os.chdir('physics-based-pedestrian-modeling/usage_notebooks')"
   ]
  },
  {
   "cell_type": "markdown",
   "metadata": {},
   "source": [
    "If you run the notebook locally you can skip the first two cells. However you still need to install the package."
   ]
  },
  {
   "cell_type": "code",
   "execution_count": null,
   "metadata": {},
   "outputs": [],
   "source": [
    "import os\n",
    "import logging\n",
    "from pathlib import Path\n",
    "from pprint import pformat\n",
    "\n",
    "import matplotlib.pyplot as plt\n",
    "from hydra import compose, initialize\n",
    "from omegaconf import OmegaConf\n",
    "\n",
    "from physped.omegaconf_resolvers import register_new_resolvers\n",
    "from physped.io.readers import trajectory_reader\n",
    "from physped.preprocessing.trajectories import preprocess_trajectories, process_slow_modes\n",
    "from physped.core.functions_to_discretize_grid import learn_potential_from_trajectories\n",
    "from physped.core.trajectory_simulator import simulate_trajectories\n",
    "from physped.visualization.plot_trajectories import plot_trajectories"
   ]
  },
  {
   "cell_type": "markdown",
   "metadata": {},
   "source": [
    "#### Configuration and setup\n",
    "\n",
    "Steps:\n",
    "- Read the configuration file for the narrow corridor\n",
    "- Setup the logging\n",
    "- Set the matplotlib plot tyle\n",
    "- Change the working directory"
   ]
  },
  {
   "cell_type": "code",
   "execution_count": null,
   "metadata": {},
   "outputs": [],
   "source": [
    "# Set the environment name\n",
    "env_name = \"single_paths\"\n",
    "\n",
    "# Set the data source. Use 4tu to read the trajectories from a remote repository.\n",
    "data_source = \"4tu\" \n",
    "\n",
    "with initialize(version_base=None, config_path=\"../physped/conf\", job_name=\"test_app\"):\n",
    "    config = compose(\n",
    "        config_name=\"config\",\n",
    "        return_hydra_config=True,\n",
    "        overrides=[\n",
    "            f\"params={env_name}\", \n",
    "            f\"params.data_source={data_source}\",\n",
    "            ],\n",
    "    )\n",
    "    register_new_resolvers(replace=True)\n",
    "\n",
    "# set log level\n",
    "log = logging.getLogger(__name__)\n",
    "logging.basicConfig(level=logging.INFO, force = True)\n",
    "\n",
    "# set plot style\n",
    "plt.style.use(Path.cwd().parent / \"physped/conf/science_no_latex.mplstyle\")\n",
    "\n",
    "# change working directory\n",
    "working_dir = config.hydra.run.dir\n",
    "os.makedirs(working_dir, exist_ok=True)\n",
    "os.chdir(working_dir)"
   ]
  },
  {
   "cell_type": "markdown",
   "metadata": {},
   "source": [
    "The default model parameters are set to:\n",
    "- Noise intensiy $\\sigma = 0.9\\, \\textrm{m s}^{-3/2}$\n",
    "- Relaxation time $\\tau = 0.5$ s\n",
    "- Integration timestep $\\Delta t=\\frac{1}{15}$"
   ]
  },
  {
   "cell_type": "code",
   "execution_count": null,
   "metadata": {},
   "outputs": [],
   "source": [
    "logging.info(\"MODELING PARAMETERS: \\n\" + pformat(OmegaConf.to_container(config.params.model, resolve=True), depth=1))"
   ]
  },
  {
   "cell_type": "markdown",
   "metadata": {},
   "source": [
    "#### Optional: overwriting the model parameters\n",
    "Any parameter in the config can be overwritten like demonstrated in the cell below"
   ]
  },
  {
   "cell_type": "code",
   "execution_count": null,
   "metadata": {},
   "outputs": [],
   "source": [
    "config.params.model.sigma = 0.9\n",
    "config.params.model.taux = 0.5\n",
    "config.params.model.tauu = 0.5\n",
    "config.params.model.dt = 1/15"
   ]
  },
  {
   "cell_type": "markdown",
   "metadata": {},
   "source": [
    "#### Read the raw trajectories \n",
    "In this notebook the trajectories are read from the remote repository on 4TU."
   ]
  },
  {
   "cell_type": "code",
   "execution_count": null,
   "metadata": {},
   "outputs": [],
   "source": [
    "trajectories = trajectory_reader[env_name](config)\n",
    "logging.info('\\n' + pformat(trajectories.head()))"
   ]
  },
  {
   "cell_type": "markdown",
   "metadata": {},
   "source": [
    "#### Preprocess the trajectories.\n",
    "Steps:\n",
    "- Rename the columns\n",
    "- Prune short trajectories\n",
    "- Add a trajectory index\n",
    "- Compute velocities in Cartesian coordinates\n",
    "- Convert velocities to polar coordinates"
   ]
  },
  {
   "cell_type": "code",
   "execution_count": null,
   "metadata": {},
   "outputs": [],
   "source": [
    "preprocessed_trajectories = preprocess_trajectories(trajectories, config=config)"
   ]
  },
  {
   "cell_type": "markdown",
   "metadata": {},
   "source": [
    "#### Compute the slow dynamics.\n",
    "Steps:\n",
    "- Compute the slow velocities $\\vec{u}_s$\n",
    "- Compute the slow positions $\\vec{x}_s$"
   ]
  },
  {
   "cell_type": "code",
   "execution_count": null,
   "metadata": {},
   "outputs": [],
   "source": [
    "preprocessed_trajectories = process_slow_modes(preprocessed_trajectories, config)"
   ]
  },
  {
   "cell_type": "markdown",
   "metadata": {},
   "source": [
    "#### Plot the preprocessed trajectories"
   ]
  },
  {
   "cell_type": "code",
   "execution_count": null,
   "metadata": {},
   "outputs": [],
   "source": [
    "plot_trajectories(preprocessed_trajectories, config, \"recorded\")"
   ]
  },
  {
   "cell_type": "markdown",
   "metadata": {},
   "source": [
    "#### Compute the piecewise potential\n",
    "Steps:\n",
    "- Create the lattice to discretize the slow dynamics\n",
    "- Fit the actual dynamics conditioned to the slow dynamics with Gaussian distributions"
   ]
  },
  {
   "cell_type": "code",
   "execution_count": null,
   "metadata": {},
   "outputs": [],
   "source": [
    "piecewise_potential = learn_potential_from_trajectories(preprocessed_trajectories, config)"
   ]
  },
  {
   "cell_type": "markdown",
   "metadata": {},
   "source": [
    "#### Simulate new trajectories with the model\n",
    "- Sample initial conditions from the trajectory measurements\n",
    "- Integrate the generalized pedestrian model\n",
    "\n",
    "The number of trajectories to simulate can be overwritten in the configuration as shown below. "
   ]
  },
  {
   "cell_type": "code",
   "execution_count": null,
   "metadata": {},
   "outputs": [],
   "source": [
    "config.params.simulation.ntrajs = 3\n",
    "simulated_trajectories = simulate_trajectories(piecewise_potential, config, preprocessed_trajectories)"
   ]
  },
  {
   "cell_type": "markdown",
   "metadata": {},
   "source": [
    "#### Plot the simulated trajectories"
   ]
  },
  {
   "cell_type": "code",
   "execution_count": null,
   "metadata": {},
   "outputs": [],
   "source": [
    "plot_trajectories(simulated_trajectories, config, \"simulated\")"
   ]
  }
 ],
 "metadata": {
  "kernelspec": {
   "display_name": "physped",
   "language": "python",
   "name": "python3"
  },
  "language_info": {
   "codemirror_mode": {
    "name": "ipython",
    "version": 3
   },
   "file_extension": ".py",
   "mimetype": "text/x-python",
   "name": "python",
   "nbconvert_exporter": "python",
   "pygments_lexer": "ipython3",
   "version": "3.11.0"
  }
 },
 "nbformat": 4,
 "nbformat_minor": 2
}
