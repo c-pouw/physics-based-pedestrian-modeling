{
 "cells": [
  {
   "cell_type": "markdown",
   "metadata": {},
   "source": [
    "# Notebook to create a pedestrian model for the narrow corridor\n",
    "Run the two cells below only if you are on Google Colab. You will need to restart the session after running the first cell."
   ]
  },
  {
   "cell_type": "code",
   "execution_count": null,
   "metadata": {},
   "outputs": [],
   "source": [
    "!git clone https://github.com/c-pouw/physics-based-pedestrian-modeling.git\n",
    "!pip install -e physics-based-pedestrian-modeling/"
   ]
  },
  {
   "cell_type": "markdown",
   "metadata": {},
   "source": [
    "Afer restarting the session you can continue from the next cell."
   ]
  },
  {
   "cell_type": "code",
   "execution_count": null,
   "metadata": {},
   "outputs": [],
   "source": [
    "import os\n",
    "os.chdir('physics-based-pedestrian-modeling/usage_notebooks')"
   ]
  },
  {
   "cell_type": "markdown",
   "metadata": {},
   "source": [
    "If you run the notebook locally and you have installed the package you can start from this cell."
   ]
  },
  {
   "cell_type": "code",
   "execution_count": null,
   "metadata": {},
   "outputs": [],
   "source": [
    "from pathlib import Path\n",
    "import os\n",
    "import logging\n",
    "from pprint import pformat\n",
    "\n",
    "import numpy as np\n",
    "import pandas as pd\n",
    "from hydra import compose, initialize\n",
    "import matplotlib.pyplot as plt\n",
    "from omegaconf import OmegaConf\n",
    "\n",
    "from physped.omegaconf_resolvers import register_new_resolvers\n",
    "from physped.io.readers import trajectory_reader\n",
    "from physped.io.writers import save_piecewise_potential\n",
    "from physped.preprocessing.trajectories import preprocess_trajectories, process_slow_modes\n",
    "from physped.core.functions_to_discretize_grid import learn_potential_from_trajectories\n",
    "from physped.core.trajectory_simulator import simulate_trajectories\n",
    "from physped.core.functions_to_select_grid_piece import evaluate_selection_point, evaluate_selection_range, get_index_of_the_enclosing_bin\n",
    "from physped.visualization.plot_trajectories import plot_trajectories\n",
    "from physped.visualization.plot_discrete_grid import plot_discrete_grid\n",
    "from physped.visualization.plot_histograms import create_all_histograms, plot_multiple_histograms\n",
    "from physped.core.piecewise_potential import PiecewisePotential\n",
    "from physped.core.functions_to_discretize_grid import digitize_trajectories_to_grid"
   ]
  },
  {
   "cell_type": "markdown",
   "metadata": {},
   "source": [
    "#### Read the configuration file"
   ]
  },
  {
   "cell_type": "code",
   "execution_count": null,
   "metadata": {},
   "outputs": [],
   "source": [
    "# Set the environment name\n",
    "env_name = \"single_paths\"\n",
    "\n",
    "# Set the data source. Use 4tu to read the trajectories from a remote repository.\n",
    "data_source = \"4tu\" \n",
    "\n",
    "with initialize(version_base=None, config_path=\"../physped/conf\", job_name=\"test_app\"):\n",
    "    config = compose(\n",
    "        config_name=\"config\",\n",
    "        return_hydra_config=True,\n",
    "        overrides=[\n",
    "            f\"params={env_name}\", \n",
    "            \"params.data_source={data_source}\",\n",
    "            ],\n",
    "    )\n",
    "    register_new_resolvers(replace=True)\n",
    "\n",
    "# set log level\n",
    "log = logging.getLogger(__name__)\n",
    "logging.basicConfig(level=logging.INFO, force = True)\n",
    "\n",
    "# set plot style\n",
    "plt.style.use(Path.cwd().parent / \"physped/conf/science_no_latex.mplstyle\")\n",
    "\n",
    "# change working directory\n",
    "working_dir = config.hydra.run.dir\n",
    "os.makedirs(working_dir, exist_ok=True)\n",
    "os.chdir(working_dir)\n",
    "\n",
    "# log the model parameters\n",
    "logging.info(\"MODELING PARAMETERS: \\n\" + pformat(OmegaConf.to_container(config.params.model, resolve=True), depth=1))"
   ]
  },
  {
   "cell_type": "markdown",
   "metadata": {},
   "source": [
    "#### Read the raw trajectories from the remote repository on 4TU."
   ]
  },
  {
   "cell_type": "code",
   "execution_count": null,
   "metadata": {},
   "outputs": [],
   "source": [
    "trajectories = trajectory_reader[env_name](config)\n",
    "logging.info('\\n' + pformat(trajectories.head()))"
   ]
  },
  {
   "cell_type": "markdown",
   "metadata": {},
   "source": [
    "#### Preprocess the trajectories."
   ]
  },
  {
   "cell_type": "code",
   "execution_count": null,
   "metadata": {},
   "outputs": [],
   "source": [
    "preprocessed_trajectories = preprocess_trajectories(trajectories, config=config)"
   ]
  },
  {
   "cell_type": "markdown",
   "metadata": {},
   "source": [
    "#### Compute the slow dynamics."
   ]
  },
  {
   "cell_type": "code",
   "execution_count": null,
   "metadata": {},
   "outputs": [],
   "source": [
    "preprocessed_trajectories = process_slow_modes(preprocessed_trajectories, config)"
   ]
  },
  {
   "cell_type": "markdown",
   "metadata": {},
   "source": [
    "#### Plot the preprocessed trajectories"
   ]
  },
  {
   "cell_type": "code",
   "execution_count": null,
   "metadata": {},
   "outputs": [],
   "source": [
    "plot_trajectories(preprocessed_trajectories, config, \"recorded\")"
   ]
  },
  {
   "cell_type": "markdown",
   "metadata": {},
   "source": [
    "#### Compute the piecewise potential"
   ]
  },
  {
   "cell_type": "code",
   "execution_count": null,
   "metadata": {},
   "outputs": [],
   "source": [
    "piecewise_potential = learn_potential_from_trajectories(preprocessed_trajectories, config)"
   ]
  },
  {
   "cell_type": "markdown",
   "metadata": {},
   "source": [
    "#### Simulate new trajectories with the model"
   ]
  },
  {
   "cell_type": "code",
   "execution_count": null,
   "metadata": {},
   "outputs": [],
   "source": [
    "config.params.input_ntrajs = len(preprocessed_trajectories.Pid.unique())\n",
    "simulated_trajectories = simulate_trajectories(piecewise_potential, config)"
   ]
  },
  {
   "cell_type": "markdown",
   "metadata": {},
   "source": [
    "#### Plot the simulated trajectories"
   ]
  },
  {
   "cell_type": "code",
   "execution_count": null,
   "metadata": {},
   "outputs": [],
   "source": [
    "plot_trajectories(simulated_trajectories, config, \"simulated\")"
   ]
  }
 ],
 "metadata": {
  "kernelspec": {
   "display_name": "physped",
   "language": "python",
   "name": "python3"
  },
  "language_info": {
   "codemirror_mode": {
    "name": "ipython",
    "version": 3
   },
   "file_extension": ".py",
   "mimetype": "text/x-python",
   "name": "python",
   "nbconvert_exporter": "python",
   "pygments_lexer": "ipython3",
   "version": "3.11.0"
  }
 },
 "nbformat": 4,
 "nbformat_minor": 2
}
