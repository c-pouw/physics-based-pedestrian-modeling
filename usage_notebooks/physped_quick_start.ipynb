{
 "cells": [
  {
   "cell_type": "markdown",
   "metadata": {},
   "source": [
    "# Physics based pedestrian modeling\n",
    "\n",
    "<p align=\"center\">\n",
    "    <a href=\"\" alt=\"Repository\">\n",
    "\t   <img src=\"https://img.shields.io/badge/GitHub-181717?style=flat&logo=github&logoColor=white\" /></a>\n",
    "    <a href=\"https://github.com/c-pouw/physics-based-pedestrian-modeling/actions/workflows/testing.yml\" alt=\"Unit Tests\">\n",
    "       <img src=\"https://github.com/c-pouw/physics-based-pedestrian-modeling/actions/workflows/testing.yml/badge.svg\" /></a>\n",
    "\t<a href=\"https://github.com/c-pouw/physics-based-pedestrian-modeling/actions/workflows/integration-tests.yaml\" alt=\"Integration Tests\">\n",
    "       <img src=\"https://github.com/c-pouw/physics-based-pedestrian-modeling/actions/workflows/integration-tests.yaml/badge.svg\" /></a>\n",
    "\t<a href=\"https://github.com/c-pouw/physics-based-pedestrian-modeling/actions/workflows/pages/pages-build-deployment\" alt=\"pages-build-deployment\">\n",
    "\t   <img src=\"https://github.com/c-pouw/physics-based-pedestrian-modeling/actions/workflows/pages/pages-build-deployment/badge.svg\" /></a>\n",
    "    <a href=\"https://pypi.python.org/pypi/physics-based-pedestrian-modeling\" alt=\"pypi version\">\n",
    "       <img src=\"https://img.shields.io/pypi/v/physics-based-pedestrian-modeling.svg\" /></a>\n",
    "    <a href=\"#\">\n",
    "       <img src=\"https://img.shields.io/pypi/pyversions/physics-based-pedestrian-modeling\" alt=\"PyPI - Python Version\" /></a>\n",
    "    <a href=\"https://github.com/psf/black\">\n",
    "       <img src=\"https://img.shields.io/badge/code%20style-black-000000.svg\" alt=\"Code style: black\" /></a>\n",
    "\t<a href=\"https://colab.research.google.com/github/c-pouw/physics-based-pedestrian-modeling/blob/master/usage_notebooks/physped_quick_start.ipynb\">\n",
    "\t   <img src=\"https://colab.research.google.com/assets/colab-badge.svg\"></a>\n",
    "\t<a href=\"https://arxiv.org/abs/2407.20794\">\n",
    "\t   <img src=\"https://img.shields.io/badge/arXiv-2407.20794-b31b1b.svg?style=flat\" alt=\"arXiv\" /></a>\n",
    "</p>\n",
    "\n",
    "# Project Overview\n",
    "\n",
    "Python package to create physics-based pedestrian models from pedestrian trajectory measurements. This package is an implementation of the data-driven generalized pedestrian model presented in:\n",
    "\n",
    "Pouw, C. A. S., van der Vleuten, G., Corbetta, A., & Toschi, F. (2024). Data-driven physics-based modeling of pedestrian dynamics. Preprint, https://arxiv.org/abs/2407.20794\n",
    "\n",
    "\n",
    "## Documentation\n",
    "\n",
    "* Documentation: https://c-pouw.github.io/physics-based-pedestrian-modeling.\n",
    "\n",
    "### This notebook shows how to use the generalized pedestrian model with one of the public data sets."
   ]
  },
  {
   "cell_type": "markdown",
   "metadata": {},
   "source": [
    "#### First install the physics-based-pedestrian-modeling package\n",
    "Note: You might need to restart the session after installing the package."
   ]
  },
  {
   "cell_type": "code",
   "execution_count": null,
   "metadata": {},
   "outputs": [],
   "source": [
    "!pip install --upgrade physics-based-pedestrian-modeling"
   ]
  },
  {
   "cell_type": "markdown",
   "metadata": {},
   "source": [
    "#### Importing libraries"
   ]
  },
  {
   "cell_type": "code",
   "execution_count": null,
   "metadata": {},
   "outputs": [],
   "source": [
    "import logging\n",
    "from pprint import pformat\n",
    "\n",
    "from omegaconf import OmegaConf\n",
    "\n",
    "from physped.utils.config_utils import initialize_hydra_config, set_plot_style\n",
    "from physped.io.readers import trajectory_reader\n",
    "from physped.preprocessing.trajectories import preprocess_trajectories, process_slow_modes\n",
    "from physped.core.functions_to_discretize_grid import learn_potential_from_trajectories\n",
    "from physped.core.trajectory_simulator import simulate_trajectories\n",
    "from physped.visualization.plot_trajectories import plot_trajectories"
   ]
  },
  {
   "cell_type": "markdown",
   "metadata": {},
   "source": [
    "#### Configuration and setup\n",
    "\n",
    "Steps:\n",
    "- Read the configuration file\n",
    "- Setup the logging\n",
    "- Set the matplotlib plot tyle\n",
    "- Change the working directory\n",
    "\n",
    "Available configuration files:\n",
    "- Narrow corridor paths\n",
    "- Intersecting paths\n",
    "- Train station platform paths"
   ]
  },
  {
   "cell_type": "code",
   "execution_count": null,
   "metadata": {},
   "outputs": [],
   "source": [
    "# Select one of the available environments\n",
    "environments = {\n",
    "    'Narrow corridor paths': 'single_paths',\n",
    "    'Intersecting paths': 'intersecting_paths',\n",
    "    'Train station platform paths': 'asdz_pf12'\n",
    "}\n",
    "env_name = environments.get('Narrow corridor paths')\n",
    "\n",
    "# Initialize Hydra configuration\n",
    "config = initialize_hydra_config(env_name)\n",
    "\n",
    "# set logging level\n",
    "log = logging.getLogger(__name__)\n",
    "logging.basicConfig(level=logging.INFO, force = True)\n",
    "\n",
    "# set plot style\n",
    "set_plot_style(use_latex=False)"
   ]
  },
  {
   "cell_type": "markdown",
   "metadata": {},
   "source": [
    "The default model parameters are set to:\n",
    "- Noise intensiy $\\sigma = 0.9\\, \\textrm{m s}^{-3/2}$\n",
    "- Relaxation time $\\tau_x = \\tau_u = 0.5$ s\n",
    "- Integration timestep $\\Delta t=\\frac{1}{f}$"
   ]
  },
  {
   "cell_type": "code",
   "execution_count": null,
   "metadata": {},
   "outputs": [],
   "source": [
    "logging.info(\n",
    "    \"MODELING PARAMETERS: \\n\" + \n",
    "    pformat(OmegaConf.to_container(config.params.model, resolve=True), depth=1)\n",
    "    )"
   ]
  },
  {
   "cell_type": "markdown",
   "metadata": {},
   "source": [
    "#### Optional: overwriting the model parameters\n",
    "Any parameter in the config can be overwritten like demonstrated in the cell below"
   ]
  },
  {
   "cell_type": "code",
   "execution_count": null,
   "metadata": {},
   "outputs": [],
   "source": [
    "overwrite_config_params = False\n",
    "if overwrite_config_params:\n",
    "    config.params.model.sigma = 0.9\n",
    "    config.params.model.taux = 0.5\n",
    "    config.params.model.tauu = 0.5\n",
    "    config.params.model.dt = 1/config.params.model.fps"
   ]
  },
  {
   "cell_type": "markdown",
   "metadata": {},
   "source": [
    "#### Read the raw trajectories \n",
    "In this notebook the public trajectory data set is read from a remote repository on 4TU. Be aware that this might throw an error when the remote repository is not accessible."
   ]
  },
  {
   "cell_type": "code",
   "execution_count": null,
   "metadata": {},
   "outputs": [],
   "source": [
    "trajectories = trajectory_reader[env_name](config)\n",
    "logging.info('\\n' + pformat(trajectories.head()))"
   ]
  },
  {
   "cell_type": "markdown",
   "metadata": {},
   "source": [
    "#### Preprocess the trajectories.\n",
    "Steps:\n",
    "- Rename the columns\n",
    "- Prune short trajectories\n",
    "- Add a trajectory index\n",
    "- Compute velocities in Cartesian coordinates\n",
    "- Convert velocities to polar coordinates"
   ]
  },
  {
   "cell_type": "code",
   "execution_count": null,
   "metadata": {},
   "outputs": [],
   "source": [
    "trajectories = preprocess_trajectories(trajectories, config=config)"
   ]
  },
  {
   "cell_type": "markdown",
   "metadata": {},
   "source": [
    "#### Compute the slow dynamics.\n",
    "Steps:\n",
    "- Compute the slow velocities $\\vec{u}_s$\n",
    "- Compute the slow positions $\\vec{x}_s$"
   ]
  },
  {
   "cell_type": "code",
   "execution_count": null,
   "metadata": {},
   "outputs": [],
   "source": [
    "trajectories = process_slow_modes(trajectories, config)"
   ]
  },
  {
   "cell_type": "markdown",
   "metadata": {},
   "source": [
    "#### Plot the preprocessed trajectories"
   ]
  },
  {
   "cell_type": "code",
   "execution_count": null,
   "metadata": {},
   "outputs": [],
   "source": [
    "plot_trajectories(trajectories, config, \"recorded\")"
   ]
  },
  {
   "cell_type": "markdown",
   "metadata": {},
   "source": [
    "#### Compute the piecewise potential\n",
    "Steps:\n",
    "- Create the lattice to discretize the slow dynamics\n",
    "- Fit the actual dynamics conditioned to the slow dynamics with Gaussian distributions"
   ]
  },
  {
   "cell_type": "code",
   "execution_count": null,
   "metadata": {},
   "outputs": [],
   "source": [
    "reduce_lattice_size = True\n",
    "if reduce_lattice_size:\n",
    "    config.params.grid.r.list = [0, 0.5, 1, 1.5, 2, 2.5]\n",
    "    config.params.grid.spatial_cell_size = 0.4\n",
    "piecewise_potential = learn_potential_from_trajectories(trajectories, config)"
   ]
  },
  {
   "cell_type": "markdown",
   "metadata": {},
   "source": [
    "#### Simulate new trajectories with the model\n",
    "- Sample initial conditions from the trajectory measurements\n",
    "- Integrate the generalized pedestrian model\n",
    "\n",
    "The number of trajectories to simulate can be overwritten in the configuration as shown below. "
   ]
  },
  {
   "cell_type": "code",
   "execution_count": null,
   "metadata": {},
   "outputs": [],
   "source": [
    "config.params.simulation.ntrajs = 25\n",
    "simulated_trajectories = simulate_trajectories(piecewise_potential, config, trajectories)"
   ]
  },
  {
   "cell_type": "markdown",
   "metadata": {},
   "source": [
    "#### Plot the simulated trajectories"
   ]
  },
  {
   "cell_type": "code",
   "execution_count": null,
   "metadata": {},
   "outputs": [],
   "source": [
    "plot_trajectories(simulated_trajectories, config, \"simulated\")"
   ]
  }
 ],
 "metadata": {
  "kernelspec": {
   "display_name": "physped",
   "language": "python",
   "name": "python3"
  },
  "language_info": {
   "codemirror_mode": {
    "name": "ipython",
    "version": 3
   },
   "file_extension": ".py",
   "mimetype": "text/x-python",
   "name": "python",
   "nbconvert_exporter": "python",
   "pygments_lexer": "ipython3",
   "version": "3.11.0"
  }
 },
 "nbformat": 4,
 "nbformat_minor": 2
}
