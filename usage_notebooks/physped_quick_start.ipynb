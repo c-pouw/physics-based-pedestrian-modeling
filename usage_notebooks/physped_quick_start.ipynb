{
 "cells": [
  {
   "cell_type": "markdown",
   "metadata": {},
   "source": [
    "# Notebook to create a pedestrian model with the narrow corridor measurements\n",
    "\n",
    "#### Install the physics-based-pedestrian-modeling package\n",
    "Note: You might need to restart the session after installing the package."
   ]
  },
  {
   "cell_type": "code",
   "execution_count": null,
   "metadata": {},
   "outputs": [],
   "source": [
    "!pip install physics-based-pedestrian-modeling"
   ]
  },
  {
   "cell_type": "markdown",
   "metadata": {},
   "source": [
    "#### Importing libraries"
   ]
  },
  {
   "cell_type": "code",
   "execution_count": null,
   "metadata": {},
   "outputs": [],
   "source": [
    "import logging\n",
    "from pprint import pformat\n",
    "\n",
    "from omegaconf import OmegaConf\n",
    "\n",
    "from physped.utils.config_utils import initialize_hydra_config, set_plot_style\n",
    "from physped.io.readers import trajectory_reader\n",
    "from physped.preprocessing.trajectories import preprocess_trajectories, process_slow_modes\n",
    "from physped.core.functions_to_discretize_grid import learn_potential_from_trajectories\n",
    "from physped.core.trajectory_simulator import simulate_trajectories\n",
    "from physped.visualization.plot_trajectories import plot_trajectories"
   ]
  },
  {
   "cell_type": "markdown",
   "metadata": {},
   "source": [
    "#### Configuration and setup\n",
    "\n",
    "Steps:\n",
    "- Read the configuration file\n",
    "- Setup the logging\n",
    "- Set the matplotlib plot tyle\n",
    "- Change the working directory\n",
    "\n",
    "Available configuration files:\n",
    "- Narrow corridor paths\n",
    "- Intersecting paths\n",
    "- Train station platform paths"
   ]
  },
  {
   "cell_type": "code",
   "execution_count": null,
   "metadata": {},
   "outputs": [],
   "source": [
    "# Select one of the available environments\n",
    "environments = {\n",
    "    'Narrow corridor paths': 'single_paths',\n",
    "    'Intersecting paths': 'intersecting_paths',\n",
    "    'Train station platform paths': 'asdz_pf12'\n",
    "}\n",
    "env_name = environments.get('Narrow corridor paths')\n",
    "\n",
    "# Initialize Hydra configuration\n",
    "config = initialize_hydra_config(env_name)\n",
    "\n",
    "# set logging level\n",
    "log = logging.getLogger(__name__)\n",
    "logging.basicConfig(level=logging.INFO, force = True)\n",
    "\n",
    "# set plot style\n",
    "set_plot_style(use_latex=False)"
   ]
  },
  {
   "cell_type": "markdown",
   "metadata": {},
   "source": [
    "The default model parameters are set to:\n",
    "- Noise intensiy $\\sigma = 0.9\\, \\textrm{m s}^{-3/2}$\n",
    "- Relaxation time $\\tau = 0.5$ s\n",
    "- Integration timestep $\\Delta t=\\frac{1}{15}$"
   ]
  },
  {
   "cell_type": "code",
   "execution_count": null,
   "metadata": {},
   "outputs": [],
   "source": [
    "logging.info(\n",
    "    \"MODELING PARAMETERS: \\n\" + \n",
    "    pformat(OmegaConf.to_container(config.params.model, resolve=True), depth=1)\n",
    "    )"
   ]
  },
  {
   "cell_type": "markdown",
   "metadata": {},
   "source": [
    "#### Optional: overwriting the model parameters\n",
    "Any parameter in the config can be overwritten like demonstrated in the cell below"
   ]
  },
  {
   "cell_type": "code",
   "execution_count": null,
   "metadata": {},
   "outputs": [],
   "source": [
    "overwrite_config_params = False\n",
    "if overwrite_config_params:\n",
    "    config.params.model.sigma = 0.9\n",
    "    config.params.model.taux = 0.5\n",
    "    config.params.model.tauu = 0.5\n",
    "    config.params.model.dt = 1/config.params.model.fps"
   ]
  },
  {
   "cell_type": "markdown",
   "metadata": {},
   "source": [
    "#### Read the raw trajectories \n",
    "In this notebook the trajectories are read from a remote repository on 4TU."
   ]
  },
  {
   "cell_type": "code",
   "execution_count": null,
   "metadata": {},
   "outputs": [],
   "source": [
    "import requests\n",
    "link = \"https://data.4tu.nl/ndownloader/items/b8e30f8c-3931-4604-842a-77c7fb8ac3fc/versions/1\"\n",
    "response = requests.get(link, timeout=10)\n",
    "response.status_code"
   ]
  },
  {
   "cell_type": "code",
   "execution_count": null,
   "metadata": {},
   "outputs": [],
   "source": [
    "response.content"
   ]
  },
  {
   "cell_type": "code",
   "execution_count": null,
   "metadata": {},
   "outputs": [],
   "source": [
    "trajectories = trajectory_reader[env_name](config)\n",
    "logging.info('\\n' + pformat(trajectories.head()))"
   ]
  },
  {
   "cell_type": "markdown",
   "metadata": {},
   "source": [
    "#### Preprocess the trajectories.\n",
    "Steps:\n",
    "- Rename the columns\n",
    "- Prune short trajectories\n",
    "- Add a trajectory index\n",
    "- Compute velocities in Cartesian coordinates\n",
    "- Convert velocities to polar coordinates"
   ]
  },
  {
   "cell_type": "code",
   "execution_count": null,
   "metadata": {},
   "outputs": [],
   "source": [
    "trajectories = preprocess_trajectories(trajectories, config=config)"
   ]
  },
  {
   "cell_type": "markdown",
   "metadata": {},
   "source": [
    "#### Compute the slow dynamics.\n",
    "Steps:\n",
    "- Compute the slow velocities $\\vec{u}_s$\n",
    "- Compute the slow positions $\\vec{x}_s$"
   ]
  },
  {
   "cell_type": "code",
   "execution_count": null,
   "metadata": {},
   "outputs": [],
   "source": [
    "trajectories = process_slow_modes(trajectories, config)"
   ]
  },
  {
   "cell_type": "markdown",
   "metadata": {},
   "source": [
    "#### Plot the preprocessed trajectories"
   ]
  },
  {
   "cell_type": "code",
   "execution_count": null,
   "metadata": {},
   "outputs": [],
   "source": [
    "plot_trajectories(trajectories, config, \"recorded\")"
   ]
  },
  {
   "cell_type": "markdown",
   "metadata": {},
   "source": [
    "#### Compute the piecewise potential\n",
    "Steps:\n",
    "- Create the lattice to discretize the slow dynamics\n",
    "- Fit the actual dynamics conditioned to the slow dynamics with Gaussian distributions"
   ]
  },
  {
   "cell_type": "code",
   "execution_count": null,
   "metadata": {},
   "outputs": [],
   "source": [
    "reduce_lattice_size = True\n",
    "if reduce_lattice_size:\n",
    "    config.params.grid.r.list = [0, 0.5, 1, 1.5, 2, 2.5]\n",
    "    config.params.grid.spatial_cell_size = 0.4\n",
    "piecewise_potential = learn_potential_from_trajectories(trajectories, config)"
   ]
  },
  {
   "cell_type": "markdown",
   "metadata": {},
   "source": [
    "#### Simulate new trajectories with the model\n",
    "- Sample initial conditions from the trajectory measurements\n",
    "- Integrate the generalized pedestrian model\n",
    "\n",
    "The number of trajectories to simulate can be overwritten in the configuration as shown below. "
   ]
  },
  {
   "cell_type": "code",
   "execution_count": null,
   "metadata": {},
   "outputs": [],
   "source": [
    "config.params.simulation.ntrajs = 25\n",
    "simulated_trajectories = simulate_trajectories(piecewise_potential, config, trajectories)"
   ]
  },
  {
   "cell_type": "markdown",
   "metadata": {},
   "source": [
    "#### Plot the simulated trajectories"
   ]
  },
  {
   "cell_type": "code",
   "execution_count": null,
   "metadata": {},
   "outputs": [],
   "source": [
    "plot_trajectories(simulated_trajectories, config, \"simulated\")"
   ]
  }
 ],
 "metadata": {
  "kernelspec": {
   "display_name": "physped",
   "language": "python",
   "name": "python3"
  },
  "language_info": {
   "codemirror_mode": {
    "name": "ipython",
    "version": 3
   },
   "file_extension": ".py",
   "mimetype": "text/x-python",
   "name": "python",
   "nbconvert_exporter": "python",
   "pygments_lexer": "ipython3",
   "version": "3.11.0"
  }
 },
 "nbformat": 4,
 "nbformat_minor": 2
}
