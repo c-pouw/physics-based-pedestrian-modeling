{
 "cells": [
  {
   "cell_type": "markdown",
   "metadata": {},
   "source": [
    "# Physics based pedestrian modeling\n",
    "\n",
    "<p align=\"center\">\n",
    "    <a href=\"https://github.com/c-pouw/physics-based-pedestrian-modeling/\" alt=\"Repository\">\n",
    "\t   <img src=\"https://img.shields.io/badge/GitHub-181717?style=flat&logo=github&logoColor=white\" /></a>\n",
    "\t<a href=\"https://github.com/c-pouw/physics-based-pedestrian-modeling/actions/workflows/integration-tests.yaml\" alt=\"Integration Tests\">\n",
    "\t   <img src=\"https://github.com/c-pouw/physics-based-pedestrian-modeling/actions/workflows/integration-tests.yaml/badge.svg\" /></a>\n",
    "    <a href=\"https://c-pouw.github.io/physics-based-pedestrian-modeling\" alt=\"docs\">\n",
    "\t   <img src=\"https://github.com/c-pouw/physics-based-pedestrian-modeling/actions/workflows/docs.yml/badge.svg\" /></a>\n",
    "    <a href=\"https://c-pouw.github.io/physics-based-pedestrian-modeling/reports/junit/report.html?sort=result\">\n",
    "\t   <img src=\"https://c-pouw.github.io/physics-based-pedestrian-modeling/reports/junit/tests-badge.svg?dummy=8484744\" alt=\"tests\" /></a>\n",
    "    <a href=\"https://c-pouw.github.io/physics-based-pedestrian-modeling/reports/coverage/index.html?\">\n",
    "\t   <img src=\"https://c-pouw.github.io/physics-based-pedestrian-modeling/reports/coverage/coverage-badge.svg?dummy=8484744\" alt=\"coverage\" /></a>\n",
    "    <a href=\"https://pypi.python.org/pypi/physics-based-pedestrian-modeling\" alt=\"pypi version\">\n",
    "       <img src=\"https://img.shields.io/pypi/v/physics-based-pedestrian-modeling.svg\" /></a>\n",
    "    <a href=\"#\">\n",
    "       <img src=\"https://img.shields.io/pypi/pyversions/physics-based-pedestrian-modeling\" alt=\"PyPI - Python Version\" /></a>\n",
    "    <a href=\"https://opensource.org/licenses/BSD-3-Clause\">\n",
    "       <img src=\"https://img.shields.io/badge/License-BSD%203--Clause-orange.svg\" alt=\"Licence\" /></a>\n",
    "    <a href=\"https://github.com/psf/black\">\n",
    "       <img src=\"https://img.shields.io/badge/code%20style-black-000000.svg\" alt=\"Code style: black\" /></a>\n",
    "</p>\n",
    "\n",
    "# Project Overview\n",
    "Python package to create physics-based pedestrian models from pedestrian trajectory measurements. This package is an implementation of the data-driven generalized pedestrian model presented in:\n",
    "\n",
    "> Pouw, C. A. S., van der Vleuten, G., Corbetta, A., & Toschi, F. (2024). Data-driven physics-based modeling of pedestrian dynamics. Phys. Rev. E 110 (6 Dec. 2024), p. 064102. DOI: [10.1103/PhysRevE.110.064102](https://doi.org/10.1103/PhysRevE.110.064102).\n",
    "\n",
    "**Abstract.** We introduce a data-driven physics-based generalized\n",
    "Langevin model that allows robust and generic modeling of pedestrian\n",
    "behavior across any environment where extensive pedestrian trajectory\n",
    "data is available. Our model effectively captures the complex\n",
    "interplay between the deterministic movements and stochastic\n",
    "fluctuations associated with walking.\n",
    "\n",
    "<h3 align=\"center\" style=\"vertical-align: middle;\">\n",
    "\t<a href=\"https://journals.aps.org/pre/accepted/ec075Ra2H081202d17c11029a2e965c33e4471521\">\n",
    "\t   <img src=\"https://img.shields.io/badge/PRE-Manuscript-b31b1b?style=for-the-badge\" alt=\"PRE\" /></a>\n",
    "\t<a href=\"https://github.com/c-pouw/physics-based-pedestrian-modeling/\" alt=\"Repository\"><img src=\"https://img.shields.io/badge/Github-Software-%23181717?style=for-the-badge\" /></a>\n",
    "    <a href=\"https://doi.org/10.5281/zenodo.13784588\">\n",
    "\t   <img src=\"https://img.shields.io/badge/Zenodo-Dataset-%231682D4?style=for-the-badge\" alt=\"Zenodo dataset\"></a>\n",
    "    <a href=\"https://colab.research.google.com/github/c-pouw/physics-based-pedestrian-modeling/blob/master/usage_notebooks/physped_quick_start.ipynb\"><img src=\"https://img.shields.io/badge/Google_Colab-Demonstration-%23F9AB00?style=for-the-badge\"></a>\n",
    "</h3>\n",
    "\n",
    "## Documentation\n",
    "\n",
    "* Documentation: https://c-pouw.github.io/physics-based-pedestrian-modeling.\n",
    "\n",
    "### This notebook shows how the generalized pedestrian model can be used with the public trajectory data sets."
   ]
  },
  {
   "cell_type": "markdown",
   "metadata": {},
   "source": [
    "#### Installation of the physics-based-pedestrian-modeling package\n",
    "Note: In Google Colab you might need to restart the session after installing the package."
   ]
  },
  {
   "cell_type": "code",
   "execution_count": null,
   "metadata": {},
   "outputs": [],
   "source": [
    "!pip install --upgrade physics-based-pedestrian-modeling"
   ]
  },
  {
   "cell_type": "markdown",
   "metadata": {},
   "source": [
    "#### Configuration and setup\n",
    "- Read the configuration file\n",
    "- Setup logging\n",
    "- Set matplotlib plot tyle\n",
    "- Change working directory\n",
    "\n",
    "Available configuration files:\n",
    "- [Narrow corridor paths](http://doi.org/10.4121/UUID:25289586-4FDA-4931-8904-D63EFE4AA0B8)\n",
    "- Intersecting paths\n",
    "- [Eindhoven station platform 3-4 paths](https://zenodo.org/records/13784588)\n",
    "- [Amsterdam Zuid station platform 1-2 paths](https://doi.org/10.4121/20683062)"
   ]
  },
  {
   "cell_type": "code",
   "execution_count": null,
   "metadata": {},
   "outputs": [],
   "source": [
    "import logging\n",
    "from pprint import pformat\n",
    "\n",
    "from omegaconf import OmegaConf\n",
    "\n",
    "from physped.utils.config_utils import initialize_hydra_config, set_plot_style\n",
    "\n",
    "# Select one of the available environments\n",
    "environments = {\n",
    "    'Narrow corridor paths': 'narrow_corridor',\n",
    "    'Intersecting paths': 'intersecting_paths',\n",
    "    'Eindhoven station platform 3-4 paths': 'eindhoven_pf34',\n",
    "    'Amsterdam Zuid station platform 1-2 paths': 'asdz_pf12'\n",
    "}\n",
    "env_name = environments.get('Narrow corridor paths')\n",
    "\n",
    "# Initialize configuration with Hydra\n",
    "config = initialize_hydra_config(env_name)\n",
    "\n",
    "# Setup logging\n",
    "log = logging.getLogger(__name__)\n",
    "logging.basicConfig(level=logging.INFO, force = True)\n",
    "\n",
    "# Set plot style\n",
    "set_plot_style(config, use_latex=False)"
   ]
  },
  {
   "cell_type": "markdown",
   "metadata": {},
   "source": [
    "The default model parameters are set to:\n",
    "- Noise intensiy $\\sigma = 0.9\\, \\textrm{m s}^{-3/2}$\n",
    "- Relaxation time $\\tau_x = \\tau_u = 0.5$ s\n",
    "- Integration timestep $\\Delta t=\\frac{1}{f}$"
   ]
  },
  {
   "cell_type": "code",
   "execution_count": null,
   "metadata": {},
   "outputs": [],
   "source": [
    "logging.info(\n",
    "    \"MODELING PARAMETERS: \\n\" + \n",
    "    pformat(OmegaConf.to_container(config.params.model, resolve=True), depth=1)\n",
    "    )"
   ]
  },
  {
   "cell_type": "markdown",
   "metadata": {},
   "source": [
    "#### Optional: changing the model parameters\n",
    "Parameters in the config can be changed like demonstrated in the cell below"
   ]
  },
  {
   "cell_type": "code",
   "execution_count": null,
   "metadata": {},
   "outputs": [],
   "source": [
    "change_config_params = True\n",
    "if change_config_params:\n",
    "    config.params.model.sigma = 0.6\n",
    "    config.params.model.taux = 0.5\n",
    "    config.params.model.tauu = 0.5\n",
    "    config.params.model.dt = 1/config.params.fps"
   ]
  },
  {
   "cell_type": "markdown",
   "metadata": {},
   "source": [
    "The cell below demonstrates how the geometry of the lattice can be changed"
   ]
  },
  {
   "cell_type": "code",
   "execution_count": null,
   "metadata": {},
   "outputs": [],
   "source": [
    "change_lattice_size = True\n",
    "if change_lattice_size:\n",
    "    config.params.grid.r.list = [0, 0.5, 1, 1.5, 2, 2.5]\n",
    "    config.params.grid.spatial_cell_size = 0.4"
   ]
  },
  {
   "cell_type": "markdown",
   "metadata": {},
   "source": [
    "#### Read and preprocess the trajectories.\n",
    "- Rename the columns\n",
    "- Prune short trajectories\n",
    "- Add a trajectory index\n",
    "- Compute velocities in Cartesian coordinates\n",
    "- Convert velocities to polar coordinates\n",
    "\n",
    "Note that the trajectory data sets are read from a remote repository, as a consequence you might get an error when the remote repository is not accessible."
   ]
  },
  {
   "cell_type": "code",
   "execution_count": null,
   "metadata": {},
   "outputs": [],
   "source": [
    "from physped.processing_pipelines import read_and_preprocess_data\n",
    "read_and_preprocess_data(config)"
   ]
  },
  {
   "cell_type": "markdown",
   "metadata": {},
   "source": [
    "#### Optional: Sampling initial dynamics from the trajectory measurements\n",
    "The sampled initial dynamics are later used to initiate trajectory simulations."
   ]
  },
  {
   "cell_type": "code",
   "execution_count": null,
   "metadata": {},
   "outputs": [],
   "source": [
    "from physped.processing_pipelines import sample_and_save_dynamics_from_trajectories\n",
    "config.params.simulation.ntrajs = 10\n",
    "sample_and_save_dynamics_from_trajectories(config)"
   ]
  },
  {
   "cell_type": "markdown",
   "metadata": {},
   "source": [
    "#### Learn the dynamics and compute the piecewise potential\n",
    "- Fit the dynamics of the measurements conditioned to the slow dynamics with Gaussian distributions"
   ]
  },
  {
   "cell_type": "code",
   "execution_count": null,
   "metadata": {},
   "outputs": [],
   "source": [
    "from physped.processing_pipelines import learn_potential_from_data\n",
    "learn_potential_from_data(config)"
   ]
  },
  {
   "cell_type": "markdown",
   "metadata": {},
   "source": [
    "#### Simulate new trajectories with the model\n",
    "- Use the sampled initial dynamics\n",
    "- Use the learned potential\n",
    "- Integrate the generalized pedestrian model\n",
    "\n",
    "The number of trajectories to simulate can be changed in the configuration as shown below. "
   ]
  },
  {
   "cell_type": "code",
   "execution_count": null,
   "metadata": {},
   "outputs": [],
   "source": [
    "from physped.processing_pipelines import simulate_from_potential\n",
    "config.params.simulation.ntrajs = 10\n",
    "simulate_from_potential(config)"
   ]
  },
  {
   "cell_type": "markdown",
   "metadata": {},
   "source": [
    "#### Plot the figures"
   ]
  },
  {
   "cell_type": "code",
   "execution_count": null,
   "metadata": {},
   "outputs": [],
   "source": [
    "from physped.processing_pipelines import plot_figures\n",
    "plot_figures(config)"
   ]
  },
  {
   "cell_type": "code",
   "execution_count": null,
   "metadata": {},
   "outputs": [],
   "source": []
  }
 ],
 "metadata": {
  "kernelspec": {
   "display_name": ".venv",
   "language": "python",
   "name": "python3"
  },
  "language_info": {
   "codemirror_mode": {
    "name": "ipython",
    "version": 3
   },
   "file_extension": ".py",
   "mimetype": "text/x-python",
   "name": "python",
   "nbconvert_exporter": "python",
   "pygments_lexer": "ipython3",
   "version": "3.11.11"
  }
 },
 "nbformat": 4,
 "nbformat_minor": 2
}
